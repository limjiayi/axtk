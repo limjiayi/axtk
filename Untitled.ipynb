{
 "cells": [
  {
   "cell_type": "code",
   "execution_count": 1,
   "id": "9adfb43e-dbe8-4d8a-bef7-bf6026dff9a0",
   "metadata": {},
   "outputs": [],
   "source": [
    "from transformers import AutoModelForCausalLM, AutoTokenizer, LogitsProcessorList\n",
    "model = AutoModelForCausalLM.from_pretrained('gpt2')\n",
    "tokenizer = AutoTokenizer.from_pretrained('gpt2')"
   ]
  },
  {
   "cell_type": "code",
   "execution_count": 2,
   "id": "8f50a1cb-bb7b-4b24-96fd-bb9c951216c6",
   "metadata": {},
   "outputs": [
    {
     "name": "stderr",
     "output_type": "stream",
     "text": [
      "The attention mask and the pad token id were not set. As a consequence, you may observe unexpected behavior. Please pass your input's `attention_mask` to obtain reliable results.\n",
      "Setting `pad_token_id` to `eos_token_id`:50256 for open-end generation.\n"
     ]
    },
    {
     "data": {
      "text/plain": [
       "['What is the capital of France? \\xa0The capital of France is the capital of France. \\xa0The capital of France is the capital']"
      ]
     },
     "execution_count": 2,
     "metadata": {},
     "output_type": "execute_result"
    }
   ],
   "source": [
    "prompt = 'What is the capital of France? '\n",
    "max_tokens = 20\n",
    "input_ids = tokenizer(prompt, return_tensors='pt').input_ids\n",
    "output = model.generate(input_ids, max_new_tokens=max_tokens)\n",
    "tokenizer.batch_decode(output, skip_special_tokens=True)"
   ]
  },
  {
   "cell_type": "code",
   "execution_count": 3,
   "id": "bc85a4f2-0778-49a9-ab1a-750fbfd11596",
   "metadata": {},
   "outputs": [],
   "source": [
    "processors = []"
   ]
  },
  {
   "cell_type": "code",
   "execution_count": 4,
   "id": "8c4471a5-5da9-4b27-a5e2-a789accdbfa8",
   "metadata": {},
   "outputs": [],
   "source": [
    "from axtk.generation_utils.logits_processors.token_healing_logits_processor import TokenHealingLogitsProcessor\n",
    "healer = TokenHealingLogitsProcessor(input_ids[0], tokenizer)\n",
    "healed_token_ids = healer.healed_token_ids\n",
    "if len(healed_token_ids) > 0:\n",
    "    input_ids = input_ids[:, :-len(healed_token_ids)]\n",
    "    max_tokens += len(healed_token_ids)\n",
    "    processors.append(healer)"
   ]
  },
  {
   "cell_type": "code",
   "execution_count": 5,
   "id": "ca528ad0-155f-4ab6-83aa-0a6073ae8454",
   "metadata": {},
   "outputs": [],
   "source": [
    "from axtk.generation_utils import RegexLogitsProcessor\n",
    "proc = RegexLogitsProcessor(r'Paris|London|Berlin', prefix_length=len(prompt), stop_regex='', tokenizer=tokenizer)\n",
    "processors.append(proc)"
   ]
  },
  {
   "cell_type": "code",
   "execution_count": 6,
   "id": "d8fe5afd-b30e-45e6-bb9c-2c1f5d62a311",
   "metadata": {},
   "outputs": [
    {
     "name": "stderr",
     "output_type": "stream",
     "text": [
      "The attention mask and the pad token id were not set. As a consequence, you may observe unexpected behavior. Please pass your input's `attention_mask` to obtain reliable results.\n",
      "Setting `pad_token_id` to `eos_token_id`:50256 for open-end generation.\n"
     ]
    },
    {
     "data": {
      "text/plain": [
       "['What is the capital of France? Paris']"
      ]
     },
     "execution_count": 6,
     "metadata": {},
     "output_type": "execute_result"
    }
   ],
   "source": [
    "procesors = LogitsProcessorList(processors)\n",
    "output = model.generate(input_ids, logits_processor=processors, max_new_tokens=max_tokens)\n",
    "tokenizer.batch_decode(output, skip_special_tokens=True)"
   ]
  },
  {
   "cell_type": "code",
   "execution_count": null,
   "id": "60c7a5b9-89a9-4d4d-a80e-81fbb860a436",
   "metadata": {},
   "outputs": [],
   "source": [
    "tokenizer('What is the capital of France? Paris').input_ids"
   ]
  },
  {
   "cell_type": "code",
   "execution_count": null,
   "id": "44d40099-5d02-4ca5-ac17-f22daddd12de",
   "metadata": {},
   "outputs": [],
   "source": [
    "tokenizer('What is the capital of France? ').input_ids"
   ]
  },
  {
   "cell_type": "code",
   "execution_count": null,
   "id": "590b6568-f82f-4b99-9489-64df128c6096",
   "metadata": {},
   "outputs": [],
   "source": [
    "tokenizer.decode([6342])"
   ]
  },
  {
   "cell_type": "code",
   "execution_count": null,
   "id": "d88fb21a-aeca-4261-8739-200ce632ae55",
   "metadata": {},
   "outputs": [],
   "source": []
  }
 ],
 "metadata": {
  "kernelspec": {
   "display_name": "Python 3 (ipykernel)",
   "language": "python",
   "name": "python3"
  },
  "language_info": {
   "codemirror_mode": {
    "name": "ipython",
    "version": 3
   },
   "file_extension": ".py",
   "mimetype": "text/x-python",
   "name": "python",
   "nbconvert_exporter": "python",
   "pygments_lexer": "ipython3",
   "version": "3.9.16"
  }
 },
 "nbformat": 4,
 "nbformat_minor": 5
}
